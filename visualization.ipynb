{
 "cells": [
  {
   "cell_type": "code",
   "execution_count": null,
   "metadata": {},
   "outputs": [],
   "source": [
    "# imports\n",
    "import numpy as np\n",
    "import pandas as pd\n",
    "import re"
   ]
  },
  {
   "cell_type": "code",
   "execution_count": null,
   "metadata": {},
   "outputs": [],
   "source": [
    "# read data from csv files\n",
    "all_essays = pd.read_csv('./data/train.csv', index_col=0)\n",
    "all_vocab_words = pd.read_csv('./data/unigram_freq.csv', index_col=0)"
   ]
  },
  {
   "cell_type": "code",
   "execution_count": null,
   "metadata": {},
   "outputs": [],
   "source": [
    "# building dictionary with vocab word as key and count as value\n",
    "vocab_dict = {}\n",
    "\n",
    "for data in all_vocab_words.iterrows():\n",
    "  vocab_dict[data[0]] = data[1][0]"
   ]
  },
  {
   "cell_type": "code",
   "execution_count": null,
   "metadata": {},
   "outputs": [],
   "source": [
    "cleaned_essays = []\n",
    "misspelled = []\n",
    "\n",
    "for essay in enumerate(all_essays):\n",
    "  essay_wo_punc = re.sub(r'[^\\w\\s]', '', essay)\n",
    "  essay_lower = essay_wo_punc.lower()\n",
    "  split_essay = re.split('[^a-zA-Z]+', essay_lower)\n",
    "  cleaned_essays.append(split_essay)\n",
    "\n",
    "  misspell_count = 0\n",
    "  for word in split_essay:\n",
    "    if word not in vocab_dict and word != '':\n",
    "      misspell_count += 1\n",
    "  misspelled.append(misspell_count)"
   ]
  }
 ],
 "metadata": {
  "kernelspec": {
   "display_name": "Python 3.9.0 64-bit",
   "language": "python",
   "name": "python3"
  },
  "language_info": {
   "name": "python",
   "version": "3.9.12"
  },
  "orig_nbformat": 4,
  "vscode": {
   "interpreter": {
    "hash": "aee8b7b246df8f9039afb4144a1f6fd8d2ca17a180786b69acc140d282b71a49"
   }
  }
 },
 "nbformat": 4,
 "nbformat_minor": 2
}
